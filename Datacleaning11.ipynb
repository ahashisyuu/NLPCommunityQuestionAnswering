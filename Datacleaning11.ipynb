{
 "cells": [
  {
   "cell_type": "code",
   "execution_count": null,
   "metadata": {
    "collapsed": true
   },
   "outputs": [],
   "source": [
    "#### Coutresy to convert XML to JSON https://stackoverflow.com/questions/191536/converting-xml-to-json-using-python \n",
    "Made small modifications for our purpose\n",
    "Remove certain first few lines from XML files and run the code by changing the XML filename"
   ]
  },
  {
   "cell_type": "code",
   "execution_count": null,
   "metadata": {
    "collapsed": true
   },
   "outputs": [],
   "source": [
    "from xml.dom import minidom\n",
    "import simplejson as json\n",
    "def parse_element(element):\n",
    "    dict_data = dict()\n",
    "    if element.nodeType == element.TEXT_NODE:\n",
    "        if element.data != \" \":\n",
    "            dict_data['data'] = element.data\n",
    "    if element.nodeType not in [element.TEXT_NODE, element.DOCUMENT_NODE, \n",
    "                                element.DOCUMENT_TYPE_NODE]:\n",
    "        for item in element.attributes.items():\n",
    "            dict_data[item[0]] = item[1]\n",
    "    if element.nodeType not in [element.TEXT_NODE, element.DOCUMENT_TYPE_NODE]:\n",
    "        for child in element.childNodes:\n",
    "            child_name, child_dict = parse_element(child)\n",
    "            if child_name in dict_data:\n",
    "                try:\n",
    "                    dict_data[child_name].append(child_dict)\n",
    "                except AttributeError:\n",
    "                    dict_data[child_name] = [dict_data[child_name], child_dict]\n",
    "            else:\n",
    "                dict_data[child_name] = child_dict \n",
    "    return element.nodeName, dict_data\n",
    "\n",
    "if __name__ == '__main__':\n",
    "    dom = minidom.parse('Q2Q.xml')\n",
    "    print type(dom)\n",
    "    f = open('Q2Q.json', 'w')\n",
    "    f.write(json.dumps(parse_element(dom), sort_keys=True, indent=4))\n",
    "    f.close()"
   ]
  },
  {
   "cell_type": "code",
   "execution_count": null,
   "metadata": {
    "collapsed": true
   },
   "outputs": [],
   "source": [
    "import pandas as pd\n",
    "\n",
    "data111 = pd.read_json('Q2Q.json')\n",
    "print data111[0][1]['xml'].keys()\n",
    "df3111 = pd.io.json.json_normalize(data111[0][1]['xml']['OrgQuestion'])\n",
    "df4111 = pd.concat([pd.DataFrame(pd.io.json.json_normalize(x)) for x in df3111['Thread.RelComment']],ignore_index=True)\n",
    "df4111['THREAD_SEQUENCE'] = [ '_'.join(i.split('_')[:2]) for i in df4111['RELC_ID']]\n",
    "print df4111.count()"
   ]
  },
  {
   "cell_type": "code",
   "execution_count": null,
   "metadata": {
    "collapsed": true
   },
   "outputs": [],
   "source": [
    "df5111 = pd.concat([df3111.set_index('Thread.RelQuestion.RELQ_ID'),df4111.set_index('THREAD_SEQUENCE')], axis=1, join='inner').reset_index()\n",
    "df5111.columns\n",
    "\n",
    "remove_index = [ '#text', 'OrgQBody.#text.data' ,'Thread.#text', 'Thread.RelQuestion.#text', 'Thread.RelQuestion.RelQBody.#text.data' \n",
    "               ,'Thread.SubtaskA_Skip_Because_Same_As_RelQuestion_ID' , 'index' , 'RelCBody.#text.data' , 'Thread.RelComment']\n",
    "\n",
    "[ df5111.drop(i, axis=1, inplace=True) for i in remove_index ] \n",
    "list ( df5111[ df5111['ORGQ_ID'] == 'Q268' ].columns ) "
   ]
  }
 ],
 "metadata": {
  "kernelspec": {
   "display_name": "Python 2",
   "language": "python",
   "name": "python2"
  },
  "language_info": {
   "codemirror_mode": {
    "name": "ipython",
    "version": 2
   },
   "file_extension": ".py",
   "mimetype": "text/x-python",
   "name": "python",
   "nbconvert_exporter": "python",
   "pygments_lexer": "ipython2",
   "version": "2.7.11"
  }
 },
 "nbformat": 4,
 "nbformat_minor": 2
}
