{
 "cells": [
  {
   "cell_type": "code",
   "execution_count": 34,
   "metadata": {
    "collapsed": false
   },
   "outputs": [
    {
     "name": "stdout",
     "output_type": "stream",
     "text": [
      "<__main__.BM25 instance at 0x10a328f80>\n",
      "scores [0, 0, 0, 0, 0, 0, 0, 0.15791141726235663, 0.5415694380758288]\n",
      "0 [(0, 0.2168251319235133), (1, 0.2168251319235133), (2, 0.2168251319235133), (3, 0.2168251319235133), (4, 0.2168251319235133), (5, 0.13732653608351372), (6, 0.2168251319235133), (7, 0.13732653608351372)]\n",
      "1 [(5, 0.10986122886681099), (8, 0.10986122886681099), (9, -0.1238078416812447), (10, 0.06190392084062235), (11, 0.10986122886681099), (12, 0.06190392084062235), (13, 0.10986122886681099), (14, 0.17346010553881064), (15, 0.10986122886681099)]\n",
      "2 [(7, 0.1831020481113516), (10, 0.10317320140103725), (12, 0.10317320140103725), (16, 0.10317320140103725), (17, 0.28910017589801773), (18, 0.1831020481113516)]\n",
      "3 [(9, -0.07737990105077794), (10, 0.07737990105077794), (18, 0.13732653608351372), (19, 0.13732653608351372), (20, 0.2168251319235133), (21, 0.2168251319235133), (22, 0.2168251319235133), (23, 0.2168251319235133)]\n",
      "4 [(9, -0.06878213426735816), (12, 0.06878213426735816), (13, 0.12206803207423442), (15, 0.12206803207423442), (24, 0.19273345059867847), (25, 0.19273345059867847), (26, 0.19273345059867847), (27, 0.19273345059867847), (28, 0.19273345059867847)]\n",
      "5 [(9, -0.0884341726294605), (16, 0.0884341726294605), (29, 0.24780015076972947), (30, 0.24780015076972947), (31, 0.24780015076972947), (32, 0.24780015076972947), (33, 0.0884341726294605)]\n",
      "6 [(9, -0.0884341726294605), (16, 0.0884341726294605), (33, 0.0884341726294605), (34, 0.24780015076972947), (35, 0.24780015076972947), (36, 0.24780015076972947), (37, 0.24780015076972947)]\n",
      "7 [(9, -0.06878213426735816), (19, 0.12206803207423442), (33, 0.06878213426735816), (38, 0.19273345059867847), (39, 0.12206803207423442), (40, 0.19273345059867847), (41, 0.19273345059867847), (42, 0.19273345059867847), (43, 0.19273345059867847)]\n",
      "8 [(8, 0.27465307216702745), (11, 0.27465307216702745), (39, 0.27465307216702745), (44, 0.4336502638470266)]\n"
     ]
    },
    {
     "data": {
      "text/plain": [
       "'\\n    Human machine interface for lab abc computer applications\\n    A survey of user opinion of computer system response time\\n'"
      ]
     },
     "execution_count": 34,
     "metadata": {},
     "output_type": "execute_result"
    }
   ],
   "source": [
    "import gensim\n",
    "from gensim import corpora\n",
    "import math\n",
    "\n",
    "class BM25 :\n",
    "    def __init__(self, fn_docs, raw_data,delimiter='|') :\n",
    "        self.dictionary = corpora.Dictionary()\n",
    "        self.DF = {}\n",
    "        self.delimiter = delimiter\n",
    "        self.DocTF = []\n",
    "        self.DocIDF = {}\n",
    "        self.N = 0\n",
    "        self.DocAvgLen = 0\n",
    "        self.fn_docs = fn_docs\n",
    "        self.DocLen = []\n",
    "        self.buildDictionary()\n",
    "        self.TFIDF_Generator()\n",
    "\n",
    "    def buildDictionary(self) :\n",
    "        '''\n",
    "     For reading files and converting to data and add in documents\n",
    "         raw_data = []\n",
    "         for line in file(self.fn_docs) :\n",
    "             raw_data.append(line.strip().split(self.delimiter))\n",
    "        '''\n",
    "        self.dictionary.add_documents(raw_data)\n",
    "\n",
    "    def TFIDF_Generator(self, base=math.e) :\n",
    "        docTotalLen = 0\n",
    "        for doc in raw_data :\n",
    "#             doc = line.strip().split(self.delimiter) -- for converting from file \n",
    "            docTotalLen += len(doc)\n",
    "            self.DocLen.append(len(doc))\n",
    "            #print self.dictionary.doc2bow(doc)\n",
    "            bow = dict([(term, freq*1.0/len(doc)) for term, freq in self.dictionary.doc2bow(doc)])\n",
    "            for term, tf in bow.items() :\n",
    "                if term not in self.DF :\n",
    "                    self.DF[term] = 0\n",
    "                self.DF[term] += 1\n",
    "            self.DocTF.append(bow)\n",
    "            self.N = self.N + 1\n",
    "        for term in self.DF:\n",
    "            self.DocIDF[term] = math.log((self.N - self.DF[term] +0.5) / (self.DF[term] + 0.5), base)\n",
    "        self.DocAvgLen = docTotalLen / self.N\n",
    "\n",
    "    def BM25Score(self, Query=[], k1=1.5, b=0.75) :\n",
    "        query_bow = self.dictionary.doc2bow(Query)\n",
    "        scores = []\n",
    "        for idx, doc in enumerate(self.DocTF) :\n",
    "            commonTerms = set(dict(query_bow).keys()) & set(doc.keys())\n",
    "            tmp_score = []\n",
    "            doc_terms_len = self.DocLen[idx]\n",
    "            for term in commonTerms :\n",
    "                upper = (doc[term] * (k1+1))\n",
    "                below = ((doc[term]) + k1*(1 - b + b*doc_terms_len/self.DocAvgLen))\n",
    "                tmp_score.append(self.DocIDF[term] * upper / below)\n",
    "            scores.append(sum(tmp_score))\n",
    "        return scores\n",
    "\n",
    "    def TFIDF(self) :\n",
    "        tfidf = []\n",
    "        for doc in self.DocTF :\n",
    "            doc_tfidf  = [(term, tf*self.DocIDF[term]) for term, tf in doc.items()]\n",
    "            doc_tfidf.sort()\n",
    "            tfidf.append(doc_tfidf)\n",
    "        return tfidf\n",
    "\n",
    "    def Items(self) :\n",
    "        # Return a list [(term_idx, term_desc),]\n",
    "        items = self.dictionary.items()\n",
    "        items.sort()\n",
    "        return items\n",
    "\n",
    "if __name__ == '__main__' :\n",
    "    #mycorpus.txt is as following:\n",
    "    '''\n",
    "    Human machine interface for lab abc computer applications\n",
    "    A survey of user opinion of computer system response time\n",
    "    The EPS user interface management system\n",
    "    System and human system engineering testing of EPS\n",
    "    Relation of user perceived response time to error measurement\n",
    "    The generation of random binary unordered trees\n",
    "    The intersection graph of paths in trees\n",
    "    Graph IV Widths of trees and well quasi ordering\n",
    "    Graph minors A survey\n",
    "    '''\n",
    "    fn_docs = 'mycorpus.txt'\n",
    "    raw_data = [['Human', 'machine', 'interface', 'for', 'lab', 'abc', 'computer', 'applications'],\n",
    "                ['A', 'survey', 'of', 'user', 'opinion', 'of', 'computer', 'system', 'response', 'time'], \n",
    "                ['The', 'EPS', 'user', 'interface', 'management', 'system'], \n",
    "                ['System', 'and', 'human', 'system', 'engineering', 'testing', 'of', 'EPS'], \n",
    "                ['Relation', 'of', 'user', 'perceived', 'response', 'time', 'to', 'error', 'measurement'], \n",
    "                ['The', 'generation', 'of', 'random', 'binary', 'unordered', 'trees'], \n",
    "                ['The', 'intersection', 'graph', 'of', 'paths', 'in', 'trees'], \n",
    "                ['Graph', 'IV', 'Widths', 'of', 'trees', 'and', 'well', 'quasi', 'ordering'],\n",
    "                ['Graph', 'minors', 'A', 'survey']]\n",
    "    bm25 = BM25(fn_docs, raw_data, delimiter=' ')\n",
    "    print bm25\n",
    "    Query = 'What is a Graph ?'\n",
    "    Query = Query.split()\n",
    "    scores = bm25.BM25Score(Query)\n",
    "    #print \"Len of scores\",len(scores)\n",
    "    print \"scores\",scores\n",
    "    tfidf = bm25.TFIDF()\n",
    "    #print bm25.Items()\n",
    "    for i, tfidfscore in enumerate(tfidf):\n",
    "        print i, tfidfscore\n",
    "                                 \n",
    "'''\n",
    "    Human machine interface for lab abc computer applications\n",
    "    A survey of user opinion of computer system response time\n",
    "'''"
   ]
  },
  {
   "cell_type": "code",
   "execution_count": 33,
   "metadata": {
    "collapsed": false
   },
   "outputs": [
    {
     "name": "stdout",
     "output_type": "stream",
     "text": [
      "doc ['Human', 'machine', 'interface', 'for', 'lab', 'abc', 'computer', 'applications']\n",
      "doc ['A', 'survey', 'of', 'user', 'opinion', 'of', 'computer', 'system', 'response', 'time']\n",
      "doc ['The', 'EPS', 'user', 'interface', 'management', 'system']\n",
      "doc ['System', 'and', 'human', 'system', 'engineering', 'testing', 'of', 'EPS']\n",
      "doc ['Relation', 'of', 'user', 'perceived', 'response', 'time', 'to', 'error', 'measurement']\n",
      "doc ['The', 'generation', 'of', 'random', 'binary', 'unordered', 'trees']\n",
      "doc ['The', 'intersection', 'graph', 'of', 'paths', 'in', 'trees']\n",
      "doc ['Graph', 'IV', 'Widths', 'of', 'trees', 'and', 'well', 'quasi', 'ordering']\n",
      "doc ['Graph', 'minors', 'A', 'survey']\n",
      "<__main__.BM25 instance at 0x10a331d88>\n",
      "Scores [0, 0, 0, 0, 0, 0, 0, 0.15791141726235663, 0.5415694380758288]\n"
     ]
    }
   ],
   "source": [
    "'''\n",
    "group based on question and then apply bm25\n",
    "framenet\n",
    "''' \n",
    "fn_docs = 'mycorpus.txt'\n",
    "raw_data = [['Human', 'machine', 'interface', 'for', 'lab', 'abc', 'computer', 'applications'],\n",
    "            ['A', 'survey', 'of', 'user', 'opinion', 'of', 'computer', 'system', 'response', 'time'], \n",
    "            ['The', 'EPS', 'user', 'interface', 'management', 'system'], \n",
    "            ['System', 'and', 'human', 'system', 'engineering', 'testing', 'of', 'EPS'], \n",
    "            ['Relation', 'of', 'user', 'perceived', 'response', 'time', 'to', 'error', 'measurement'], \n",
    "            ['The', 'generation', 'of', 'random', 'binary', 'unordered', 'trees'], \n",
    "            ['The', 'intersection', 'graph', 'of', 'paths', 'in', 'trees'], \n",
    "            ['Graph', 'IV', 'Widths', 'of', 'trees', 'and', 'well', 'quasi', 'ordering'],\n",
    "            ['Graph', 'minors', 'A', 'survey']]\n",
    "bm25 = BM25(fn_docs, raw_data, delimiter=' ')\n",
    "print bm25\n",
    "Query = 'What is a Graph ?'\n",
    "Query = Query.split()\n",
    "scores = bm25.BM25Score(Query)\n",
    "print \"Scores\",scores\n",
    "\n",
    "\n"
   ]
  },
  {
   "cell_type": "code",
   "execution_count": null,
   "metadata": {
    "collapsed": true
   },
   "outputs": [],
   "source": []
  }
 ],
 "metadata": {
  "kernelspec": {
   "display_name": "Python 2",
   "language": "python",
   "name": "python2"
  },
  "language_info": {
   "codemirror_mode": {
    "name": "ipython",
    "version": 2
   },
   "file_extension": ".py",
   "mimetype": "text/x-python",
   "name": "python",
   "nbconvert_exporter": "python",
   "pygments_lexer": "ipython2",
   "version": "2.7.11"
  }
 },
 "nbformat": 4,
 "nbformat_minor": 2
}
