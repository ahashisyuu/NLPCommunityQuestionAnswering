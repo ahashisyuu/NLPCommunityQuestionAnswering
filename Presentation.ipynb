{
 "cells": [
  {
   "cell_type": "markdown",
   "metadata": {
    "slideshow": {
     "slide_type": "slide"
    }
   },
   "source": [
    "# Team #Happy\n",
    "# SemEval 2016 Task 3 Proposal\n",
    "\n",
    "## Team Members: \n",
    "1. Veloor Naveen Kumar (M12484321),\n",
    "2. Sriram Jagadeesh (M12505559), \n",
    "3. Sriram Balaguru (M12510438), \n",
    "4. Kurapati Murali Krishna (M12484196)"
   ]
  },
  {
   "cell_type": "markdown",
   "metadata": {
    "slideshow": {
     "slide_type": "slide"
    }
   },
   "source": [
    "## Community Question Answering\n",
    "\n",
    "### Need ?\n",
    "1. Finding duplicate questions\n",
    "2. Get the answers instantly\n",
    "3. Online question-answer community is growing\n",
    "\n",
    "-- Stackoverflow , Quora , etc..\n",
    "\n"
   ]
  },
  {
   "cell_type": "markdown",
   "metadata": {
    "slideshow": {
     "slide_type": "slide"
    }
   },
   "source": [
    "### Task Description: \n",
    "\n",
    "#### Question - Comment similarity :\n",
    "* Given a question and its first 10 comments, we need to assign ranks to the comments with respect to their relevance to the question.\n",
    "\n",
    "#### Question - Question similarity :\n",
    "* Given a new question and its 10 related questions, we need to rank the questions which are most similar to the question.\n",
    "    \n",
    "#### Question - External Comment similarity\n",
    "* A question Q and 10 more questions (Q1 to Q10) relevant to Q, having 10 comments each (100 comments in total) are provided. We need to pick a question (from Q1 to Q10) that best matches Q semantically and 10 comments that are best relevant to Q sorted in the order of relevancy."
   ]
  },
  {
   "cell_type": "markdown",
   "metadata": {
    "slideshow": {
     "slide_type": "slide"
    }
   },
   "source": [
    "   \n",
    "#### Feature extraction \n",
    "\n",
    "##### Task A\n",
    "* [ Question Comments - 10 ]\n",
    "\n",
    "#### Gold label  - RELEVANCE2RELQ\n",
    "* Good,\n",
    "* Bad,\n",
    "* Potentially useful\n",
    "\n",
    "##### Task B   \n",
    "* [ Question\n",
    "    * [ Question -> Comments - 10 ] ]\n",
    "\n",
    "#### Gold label  - RELEVANCE2ORG\n",
    "* Perfect Match,\n",
    "* Relevant,\n",
    "* Irrelevant"
   ]
  },
  {
   "cell_type": "markdown",
   "metadata": {
    "collapsed": false,
    "slideshow": {
     "slide_type": "slide"
    }
   },
   "source": [
    "## Data Exploration \n",
    "\n",
    "<img src=\"dataexploration.png\" />\n",
    "### Reference : http://alt.qcri.org/semeval2016/task3/data/uploads/semeval2016-task3-report.pdf\n",
    "\n"
   ]
  },
  {
   "cell_type": "markdown",
   "metadata": {
    "slideshow": {
     "slide_type": "slide"
    }
   },
   "source": [
    "## To Do \n",
    "\n",
    "### Task A\n",
    "\n",
    "* Rank the comments \n",
    "    * 1 -> 10 \n",
    "\n",
    "### Task B\n",
    "\n",
    "* Rank the questions \n",
    "    * 1 -> 10\n",
    "\n",
    "### Task C\n",
    "* Rank the questions\n",
    "    * 1 -> 10\n",
    "* Rank the comments\n",
    "     * 1 -> 10 \n",
    "        * Retrieve top 10 comments for the questions\n",
    "\n",
    "\n",
    " \n",
    "\n",
    "    "
   ]
  },
  {
   "cell_type": "markdown",
   "metadata": {
    "slideshow": {
     "slide_type": "slide"
    }
   },
   "source": [
    "### Preprocessing\n",
    "\n",
    "1. Extracting the data from the raw input file\n",
    "2. Tokeniztion\n",
    "3. Remove unwanted / stopwords\n",
    "4. Lemmatization\n",
    "5. Split every question and comments \n",
    "6. Extract features from every comment\n",
    "7. Join the comments and questions     "
   ]
  },
  {
   "cell_type": "markdown",
   "metadata": {
    "slideshow": {
     "slide_type": "slide"
    }
   },
   "source": [
    "## We tried \n",
    "1. Cosine similarity between questions\n",
    "2. ngram similarity values\n",
    "3. POS tags\n",
    "    \n",
    " <font color='red'> The results are not convincing. We just got accuracy less than 50% </font> "
   ]
  },
  {
   "cell_type": "markdown",
   "metadata": {
    "slideshow": {
     "slide_type": "slide"
    }
   },
   "source": [
    "### Working on \n",
    "* To separate the “Wh” questions from the descriptive questions which asks “Why?”       \n",
    "    * For \"Wh\" questions\n",
    "        * Noun match \n",
    "            * Similar to Cosine similarity\n",
    "            * Only nouns are retained\n",
    "        * Greedy String Tiling\n",
    "            * Similarity by counting the number of shuffles in their sub-parts\n",
    "        * Topic Vector Cosine calculation\n",
    "            * Use LDA models - Generative topic model [ RELQ_CATEGORY ]\n",
    "    * If not a “Wh” question\n",
    "        * Word Vector representation based feature\n",
    "        * WordNet - semantic relations\n",
    "* Validity of a user     "
   ]
  },
  {
   "cell_type": "markdown",
   "metadata": {
    "slideshow": {
     "slide_type": "slide"
    }
   },
   "source": [
    "### Interesting Facts about Data\n",
    "* Question author feature\n",
    "* Cosine similarity between questions\n",
    "    * User names in comments\n",
    "    \n",
    "    \n",
    "        "
   ]
  },
  {
   "cell_type": "markdown",
   "metadata": {
    "slideshow": {
     "slide_type": "slide"
    }
   },
   "source": [
    "## Work Split Up\n",
    "### Task A - Ideas Exploration and Implementation:\n",
    "* Sriram Balaguru and Sriram Jegadeesh\n",
    "\n",
    "### Task B - Ideas Exploration and Implementation:\n",
    "* Veloor Naveen Kumar and Kurapati Murali Krishna\n",
    "\n",
    "### Task C - Ideas Exploration and Implementation:\n",
    " * Sriram Balaguru, Sriram Jegadeesh, Veloor Naveen Kumar and Kurapati Murali Krishna"
   ]
  },
  {
   "cell_type": "markdown",
   "metadata": {
    "slideshow": {
     "slide_type": "slide"
    }
   },
   "source": [
    "## Timeline \n",
    "\n",
    "| Date |  task  |\n",
    "|------|------|\n",
    "| 09/20/17 | Team name, membership, and task choice due |\n",
    "| 10/01/17 to 10/07/17 | Individual reading - old papers and experiences |\n",
    "| 10/08/17 | Group Discussion - knowledge exchange of Ideas explored |\n",
    "| 10/09/17 to 10/13/17 | Individual reading - old papers and experiences |\n",
    "| 10/14/17 to 10/17/17 | SemEval Data cleaning, preprocessing and implementation of cosine similarity |\n",
    "| 10/18/17 | Written proposal reports due | \n",
    "| 10/20/17 | Project Proposal | \n",
    "| 10/21/17 to 0/28/2017 | Reading and group discussion |\n",
    "| 10/29/17 | Finalize our features |\n",
    "| 10/30/17 to 11/03/17 | Implementation of features for Task A and Task B |\n",
    "| 11/04/17 | Performance check and accuracy calculation |\n",
    "| 11/05/17 | Group Discussion – Progress check and ideas to improve the features |\n",
    "| 11/06/2017 to 11/11/17 | Performance improvement |\n",
    "| 11/12/2017 to 11/13/17 | Integration of team tasks (task A and task B) |\n",
    "| 11/14/2017 to 11/18/17 | Implementation for task C |\n",
    "| 11/19/17 | Accuracy Calculation |\n",
    "| 11/20/2017 to 11/21/17 | Checks & buffer days |\n",
    "| 11/22/2017 to 11/26/17 | Report writing and preparation for presentation |\n",
    "| 11/27/17 | Written final reports due |\n",
    "| | Final Presentation |"
   ]
  },
  {
   "cell_type": "markdown",
   "metadata": {
    "slideshow": {
     "slide_type": "slide"
    }
   },
   "source": [
    "## Thank you !! "
   ]
  }
 ],
 "metadata": {
  "celltoolbar": "Slideshow",
  "kernelspec": {
   "display_name": "Python 2",
   "language": "python",
   "name": "python2"
  },
  "language_info": {
   "codemirror_mode": {
    "name": "ipython",
    "version": 2
   },
   "file_extension": ".py",
   "mimetype": "text/x-python",
   "name": "python",
   "nbconvert_exporter": "python",
   "pygments_lexer": "ipython2",
   "version": "2.7.11"
  }
 },
 "nbformat": 4,
 "nbformat_minor": 2
}
