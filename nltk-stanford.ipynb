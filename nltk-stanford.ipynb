{
 "cells": [
  {
   "cell_type": "code",
   "execution_count": 5,
   "metadata": {
    "collapsed": false
   },
   "outputs": [
    {
     "name": "stdout",
     "output_type": "stream",
     "text": [
      "[(u'Obama', u'PERSON'), (u'is', u'O'), (u'the', u'O'), (u'president', u'O'), (u'of', u'O'), (u'America', u'LOCATION')]\n"
     ]
    }
   ],
   "source": [
    "# -*- coding: utf-8 -*-\n",
    "# NER tagger\n",
    "from nltk.tag import StanfordNERTagger\n",
    "from nltk.tokenize import word_tokenize\n",
    "\n",
    "st = StanfordNERTagger('/Users/srimi/anaconda/pkgs/stanford-ner-2017-06-09/classifiers/english.all.3class.distsim.crf.ser.gz',\n",
    "\t\t\t\t\t   '/Users/srimi/anaconda/pkgs/stanford-ner-2017-06-09/stanford-ner.jar',\n",
    "\t\t\t\t\t   encoding='utf-8')\n",
    "\n",
    "# text = '1998 is my country'\n",
    "text = 'While in France, Christine Lagarde discussed short-term stimulus efforts in a recent interview with the Wall Street Journal.'\n",
    "text = \" Obama is the president of America\"\n",
    "tokenized_text = word_tokenize(text)\n",
    "classified_text = st.tag(tokenized_text)\n",
    "\n",
    "print(classified_text)"
   ]
  },
  {
   "cell_type": "code",
   "execution_count": 9,
   "metadata": {
    "collapsed": false
   },
   "outputs": [
    {
     "data": {
      "text/plain": [
       "[('I', 'i', None),\n",
       " ('went', u'go', Synset('sound.v.02')),\n",
       " ('to', 'to', None),\n",
       " ('the', 'the', None),\n",
       " ('bank', 'bank', Synset('bank.n.06')),\n",
       " ('to', 'to', None),\n",
       " ('deposit', 'deposit', Synset('deposit.v.02')),\n",
       " ('my', 'my', None),\n",
       " ('money', 'money', Synset('money.n.01'))]"
      ]
     },
     "execution_count": 9,
     "metadata": {},
     "output_type": "execute_result"
    }
   ],
   "source": [
    "from pywsd import disambiguate\n",
    "from pywsd.similarity import max_similarity as maxsim\n",
    "disambiguate('I went to the bank to deposit my money')\n",
    "list(disambiguate('I went to the bank to deposit my money', algorithm=maxsim, similarity_option='wup', keepLemmas=True))\n"
   ]
  },
  {
   "cell_type": "code",
   "execution_count": null,
   "metadata": {
    "collapsed": true
   },
   "outputs": [],
   "source": []
  }
 ],
 "metadata": {
  "kernelspec": {
   "display_name": "Python 2",
   "language": "python",
   "name": "python2"
  },
  "language_info": {
   "codemirror_mode": {
    "name": "ipython",
    "version": 2
   },
   "file_extension": ".py",
   "mimetype": "text/x-python",
   "name": "python",
   "nbconvert_exporter": "python",
   "pygments_lexer": "ipython2",
   "version": "2.7.11"
  }
 },
 "nbformat": 4,
 "nbformat_minor": 2
}
