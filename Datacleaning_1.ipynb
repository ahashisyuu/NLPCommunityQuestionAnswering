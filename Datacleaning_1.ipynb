{
 "cells": [
  {
   "cell_type": "code",
   "execution_count": 1,
   "metadata": {
    "collapsed": false
   },
   "outputs": [
    {
     "data": {
      "text/plain": [
       "Index([u'Thread'], dtype='object')"
      ]
     },
     "execution_count": 1,
     "metadata": {},
     "output_type": "execute_result"
    }
   ],
   "source": [
    "import pandas as pd\n",
    "df = pd.read_json('sample.json')\n",
    "df.columns"
   ]
  },
  {
   "cell_type": "code",
   "execution_count": 2,
   "metadata": {
    "collapsed": false
   },
   "outputs": [
    {
     "data": {
      "text/html": [
       "<div>\n",
       "<table border=\"1\" class=\"dataframe\">\n",
       "  <thead>\n",
       "    <tr style=\"text-align: right;\">\n",
       "      <th></th>\n",
       "      <th>@THREAD_SEQUENCE</th>\n",
       "      <th>RelComment</th>\n",
       "      <th>RelQuestion</th>\n",
       "    </tr>\n",
       "  </thead>\n",
       "  <tbody>\n",
       "    <tr>\n",
       "      <th>0</th>\n",
       "      <td>Q268_R16</td>\n",
       "      <td>[{u'@RELC_USERID': u'U65', u'@RELC_USERNAME': ...</td>\n",
       "      <td>{u'RelQSubject': u'Best Bank.', u'@RELQ_DATE':...</td>\n",
       "    </tr>\n",
       "    <tr>\n",
       "      <th>1</th>\n",
       "      <td>Q269_R3</td>\n",
       "      <td>[{u'@RELC_USERID': u'U2984', u'@RELC_USERNAME'...</td>\n",
       "      <td>{u'RelQSubject': u'Where is the best place to ...</td>\n",
       "    </tr>\n",
       "    <tr>\n",
       "      <th>2</th>\n",
       "      <td>Q269_R7</td>\n",
       "      <td>[{u'@RELC_USERID': u'U51', u'@RELC_USERNAME': ...</td>\n",
       "      <td>{u'RelQSubject': u'what is the best beach plac...</td>\n",
       "    </tr>\n",
       "    <tr>\n",
       "      <th>3</th>\n",
       "      <td>Q269_R10</td>\n",
       "      <td>[{u'@RELC_USERID': u'U309', u'@RELC_USERNAME':...</td>\n",
       "      <td>{u'RelQSubject': u'Best Places to live in in D...</td>\n",
       "    </tr>\n",
       "    <tr>\n",
       "      <th>4</th>\n",
       "      <td>Q269_R26</td>\n",
       "      <td>[{u'@RELC_USERID': u'U535', u'@RELC_USERNAME':...</td>\n",
       "      <td>{u'RelQSubject': u'Where is the best place in ...</td>\n",
       "    </tr>\n",
       "  </tbody>\n",
       "</table>\n",
       "</div>"
      ],
      "text/plain": [
       "  @THREAD_SEQUENCE                                         RelComment  \\\n",
       "0         Q268_R16  [{u'@RELC_USERID': u'U65', u'@RELC_USERNAME': ...   \n",
       "1          Q269_R3  [{u'@RELC_USERID': u'U2984', u'@RELC_USERNAME'...   \n",
       "2          Q269_R7  [{u'@RELC_USERID': u'U51', u'@RELC_USERNAME': ...   \n",
       "3         Q269_R10  [{u'@RELC_USERID': u'U309', u'@RELC_USERNAME':...   \n",
       "4         Q269_R26  [{u'@RELC_USERID': u'U535', u'@RELC_USERNAME':...   \n",
       "\n",
       "                                         RelQuestion  \n",
       "0  {u'RelQSubject': u'Best Bank.', u'@RELQ_DATE':...  \n",
       "1  {u'RelQSubject': u'Where is the best place to ...  \n",
       "2  {u'RelQSubject': u'what is the best beach plac...  \n",
       "3  {u'RelQSubject': u'Best Places to live in in D...  \n",
       "4  {u'RelQSubject': u'Where is the best place in ...  "
      ]
     },
     "execution_count": 2,
     "metadata": {},
     "output_type": "execute_result"
    }
   ],
   "source": [
    "from pandas.io.json import json_normalize\n",
    "import json\n",
    "json_data=open('sample.json').read()\n",
    "data = json.loads(json_data)\n",
    "result = json_normalize(data,'Thread')\n",
    "result.head()"
   ]
  },
  {
   "cell_type": "code",
   "execution_count": 4,
   "metadata": {
    "collapsed": false
   },
   "outputs": [],
   "source": [
    "res_fil = result[ result['@THREAD_SEQUENCE'] == 'Q268_R16' ]\n",
    "res_ans = json_normalize(res_fil['RelComment'][0])\n",
    "res_ques = json_normalize(res_fil['RelQuestion'][0])"
   ]
  },
  {
   "cell_type": "code",
   "execution_count": 5,
   "metadata": {
    "collapsed": false
   },
   "outputs": [
    {
     "data": {
      "text/html": [
       "<div>\n",
       "<table border=\"1\" class=\"dataframe\">\n",
       "  <thead>\n",
       "    <tr style=\"text-align: right;\">\n",
       "      <th></th>\n",
       "      <th>@RELQ_CATEGORY</th>\n",
       "      <th>@RELQ_DATE</th>\n",
       "      <th>@RELQ_ID</th>\n",
       "      <th>@RELQ_USERID</th>\n",
       "      <th>@RELQ_USERNAME</th>\n",
       "      <th>RelQBody</th>\n",
       "      <th>RelQSubject</th>\n",
       "    </tr>\n",
       "  </thead>\n",
       "  <tbody>\n",
       "    <tr>\n",
       "      <th>0</th>\n",
       "      <td>Moving to Qatar</td>\n",
       "      <td>2013-07-31 02:27:08</td>\n",
       "      <td>Q268_R16</td>\n",
       "      <td>U5151</td>\n",
       "      <td>shehabi</td>\n",
       "      <td>Hi ti all QL's; What bank you are using? and w...</td>\n",
       "      <td>Best Bank.</td>\n",
       "    </tr>\n",
       "  </tbody>\n",
       "</table>\n",
       "</div>"
      ],
      "text/plain": [
       "    @RELQ_CATEGORY           @RELQ_DATE  @RELQ_ID @RELQ_USERID @RELQ_USERNAME  \\\n",
       "0  Moving to Qatar  2013-07-31 02:27:08  Q268_R16        U5151        shehabi   \n",
       "\n",
       "                                            RelQBody RelQSubject  \n",
       "0  Hi ti all QL's; What bank you are using? and w...  Best Bank.  "
      ]
     },
     "execution_count": 5,
     "metadata": {},
     "output_type": "execute_result"
    }
   ],
   "source": [
    "res_ques.head()"
   ]
  },
  {
   "cell_type": "code",
   "execution_count": 34,
   "metadata": {
    "collapsed": false
   },
   "outputs": [
    {
     "data": {
      "text/html": [
       "<div>\n",
       "<table border=\"1\" class=\"dataframe\">\n",
       "  <thead>\n",
       "    <tr style=\"text-align: right;\">\n",
       "      <th></th>\n",
       "      <th>@RELC_DATE</th>\n",
       "      <th>@RELC_ID</th>\n",
       "      <th>@RELC_RELEVANCE2RELQ</th>\n",
       "      <th>@RELC_USERID</th>\n",
       "      <th>@RELC_USERNAME</th>\n",
       "      <th>RelCText</th>\n",
       "    </tr>\n",
       "  </thead>\n",
       "  <tbody>\n",
       "    <tr>\n",
       "      <th>0</th>\n",
       "      <td>2013-07-31 06:46:39</td>\n",
       "      <td>Q268_R16_C1</td>\n",
       "      <td>Bad</td>\n",
       "      <td>U65</td>\n",
       "      <td>Molten Metal</td>\n",
       "      <td>banks are using us ... Talk to those who had t...</td>\n",
       "    </tr>\n",
       "    <tr>\n",
       "      <th>1</th>\n",
       "      <td>2013-07-31 08:10:53</td>\n",
       "      <td>Q268_R16_C2</td>\n",
       "      <td>Bad</td>\n",
       "      <td>U956</td>\n",
       "      <td>Rip Cord</td>\n",
       "      <td>In Qatar that is like saying which is the best...</td>\n",
       "    </tr>\n",
       "    <tr>\n",
       "      <th>2</th>\n",
       "      <td>2013-07-31 10:37:03</td>\n",
       "      <td>Q268_R16_C3</td>\n",
       "      <td>Bad</td>\n",
       "      <td>U5152</td>\n",
       "      <td>arman1arzoo</td>\n",
       "      <td>I'm surprised to see such feedbacks on Qatar b...</td>\n",
       "    </tr>\n",
       "    <tr>\n",
       "      <th>3</th>\n",
       "      <td>2013-08-01 11:38:21</td>\n",
       "      <td>Q268_R16_C4</td>\n",
       "      <td>Good</td>\n",
       "      <td>U5153</td>\n",
       "      <td>westernindoha</td>\n",
       "      <td>Well Arman; nothing is wrong here with banks; ...</td>\n",
       "    </tr>\n",
       "    <tr>\n",
       "      <th>4</th>\n",
       "      <td>2013-08-01 11:45:49</td>\n",
       "      <td>Q268_R16_C5</td>\n",
       "      <td>Good</td>\n",
       "      <td>U492</td>\n",
       "      <td>happygolucky</td>\n",
       "      <td>With QNB for last 4 years plus...no issues...g...</td>\n",
       "    </tr>\n",
       "  </tbody>\n",
       "</table>\n",
       "</div>"
      ],
      "text/plain": [
       "            @RELC_DATE     @RELC_ID @RELC_RELEVANCE2RELQ @RELC_USERID  \\\n",
       "0  2013-07-31 06:46:39  Q268_R16_C1                  Bad          U65   \n",
       "1  2013-07-31 08:10:53  Q268_R16_C2                  Bad         U956   \n",
       "2  2013-07-31 10:37:03  Q268_R16_C3                  Bad        U5152   \n",
       "3  2013-08-01 11:38:21  Q268_R16_C4                 Good        U5153   \n",
       "4  2013-08-01 11:45:49  Q268_R16_C5                 Good         U492   \n",
       "\n",
       "  @RELC_USERNAME                                           RelCText  \n",
       "0   Molten Metal  banks are using us ... Talk to those who had t...  \n",
       "1       Rip Cord  In Qatar that is like saying which is the best...  \n",
       "2    arman1arzoo  I'm surprised to see such feedbacks on Qatar b...  \n",
       "3  westernindoha  Well Arman; nothing is wrong here with banks; ...  \n",
       "4   happygolucky  With QNB for last 4 years plus...no issues...g...  "
      ]
     },
     "execution_count": 34,
     "metadata": {},
     "output_type": "execute_result"
    }
   ],
   "source": [
    "res_ans.head()"
   ]
  },
  {
   "cell_type": "code",
   "execution_count": 37,
   "metadata": {
    "collapsed": true
   },
   "outputs": [],
   "source": [
    "res_fil = result[ result['@THREAD_SEQUENCE'] == 'Q269_R3' ]\n",
    "res_ans = json_normalize(res_fil['RelComment'][1])\n",
    "res_ques = json_normalize(res_fil['RelQuestion'][1])"
   ]
  },
  {
   "cell_type": "code",
   "execution_count": 38,
   "metadata": {
    "collapsed": false
   },
   "outputs": [
    {
     "data": {
      "text/html": [
       "<div>\n",
       "<table border=\"1\" class=\"dataframe\">\n",
       "  <thead>\n",
       "    <tr style=\"text-align: right;\">\n",
       "      <th></th>\n",
       "      <th>@RELC_DATE</th>\n",
       "      <th>@RELC_ID</th>\n",
       "      <th>@RELC_RELEVANCE2RELQ</th>\n",
       "      <th>@RELC_USERID</th>\n",
       "      <th>@RELC_USERNAME</th>\n",
       "      <th>RelCText</th>\n",
       "    </tr>\n",
       "  </thead>\n",
       "  <tbody>\n",
       "    <tr>\n",
       "      <th>0</th>\n",
       "      <td>2007-03-27 17:11:34</td>\n",
       "      <td>Q269_R3_C1</td>\n",
       "      <td>Bad</td>\n",
       "      <td>U2984</td>\n",
       "      <td>lzxcoco</td>\n",
       "      <td>dun u know there is no green above water ?????...</td>\n",
       "    </tr>\n",
       "    <tr>\n",
       "      <th>1</th>\n",
       "      <td>2007-03-27 22:20:38</td>\n",
       "      <td>Q269_R3_C2</td>\n",
       "      <td>Good</td>\n",
       "      <td>U431</td>\n",
       "      <td>King Edshel</td>\n",
       "      <td>I was catching fish before on corniche and if ...</td>\n",
       "    </tr>\n",
       "    <tr>\n",
       "      <th>2</th>\n",
       "      <td>2007-03-28 01:00:26</td>\n",
       "      <td>Q269_R3_C3</td>\n",
       "      <td>Bad</td>\n",
       "      <td>U5154</td>\n",
       "      <td>Husam Abonaadj</td>\n",
       "      <td>you now i will try to go to Dokhan this time e...</td>\n",
       "    </tr>\n",
       "    <tr>\n",
       "      <th>3</th>\n",
       "      <td>2007-04-26 19:21:20</td>\n",
       "      <td>Q269_R3_C4</td>\n",
       "      <td>Good</td>\n",
       "      <td>U5155</td>\n",
       "      <td>Platini</td>\n",
       "      <td>Well guys I am no fishing fanatic.. but those ...</td>\n",
       "    </tr>\n",
       "    <tr>\n",
       "      <th>4</th>\n",
       "      <td>2007-05-01 11:19:36</td>\n",
       "      <td>Q269_R3_C5</td>\n",
       "      <td>Good</td>\n",
       "      <td>U1072</td>\n",
       "      <td>digital</td>\n",
       "      <td>Ummsaid was good b4 sometime .. but now a days...</td>\n",
       "    </tr>\n",
       "  </tbody>\n",
       "</table>\n",
       "</div>"
      ],
      "text/plain": [
       "            @RELC_DATE    @RELC_ID @RELC_RELEVANCE2RELQ @RELC_USERID  \\\n",
       "0  2007-03-27 17:11:34  Q269_R3_C1                  Bad        U2984   \n",
       "1  2007-03-27 22:20:38  Q269_R3_C2                 Good         U431   \n",
       "2  2007-03-28 01:00:26  Q269_R3_C3                  Bad        U5154   \n",
       "3  2007-04-26 19:21:20  Q269_R3_C4                 Good        U5155   \n",
       "4  2007-05-01 11:19:36  Q269_R3_C5                 Good        U1072   \n",
       "\n",
       "   @RELC_USERNAME                                           RelCText  \n",
       "0         lzxcoco  dun u know there is no green above water ?????...  \n",
       "1     King Edshel  I was catching fish before on corniche and if ...  \n",
       "2  Husam Abonaadj  you now i will try to go to Dokhan this time e...  \n",
       "3         Platini  Well guys I am no fishing fanatic.. but those ...  \n",
       "4         digital  Ummsaid was good b4 sometime .. but now a days...  "
      ]
     },
     "execution_count": 38,
     "metadata": {},
     "output_type": "execute_result"
    }
   ],
   "source": [
    "res_ans.head()"
   ]
  },
  {
   "cell_type": "code",
   "execution_count": 39,
   "metadata": {
    "collapsed": false
   },
   "outputs": [
    {
     "data": {
      "text/html": [
       "<div>\n",
       "<table border=\"1\" class=\"dataframe\">\n",
       "  <thead>\n",
       "    <tr style=\"text-align: right;\">\n",
       "      <th></th>\n",
       "      <th>@RELQ_CATEGORY</th>\n",
       "      <th>@RELQ_DATE</th>\n",
       "      <th>@RELQ_ID</th>\n",
       "      <th>@RELQ_USERID</th>\n",
       "      <th>@RELQ_USERNAME</th>\n",
       "      <th>RelQBody</th>\n",
       "      <th>RelQSubject</th>\n",
       "    </tr>\n",
       "  </thead>\n",
       "  <tbody>\n",
       "    <tr>\n",
       "      <th>0</th>\n",
       "      <td>Sightseeing and Tourist attractions</td>\n",
       "      <td>2007-03-27 14:56:42</td>\n",
       "      <td>Q269_R3</td>\n",
       "      <td>U5154</td>\n",
       "      <td>Husam Abonaadj</td>\n",
       "      <td>I really would like to know where the best pla...</td>\n",
       "      <td>Where is the best place to catch fish in Qatar ?</td>\n",
       "    </tr>\n",
       "  </tbody>\n",
       "</table>\n",
       "</div>"
      ],
      "text/plain": [
       "                        @RELQ_CATEGORY           @RELQ_DATE @RELQ_ID  \\\n",
       "0  Sightseeing and Tourist attractions  2007-03-27 14:56:42  Q269_R3   \n",
       "\n",
       "  @RELQ_USERID  @RELQ_USERNAME  \\\n",
       "0        U5154  Husam Abonaadj   \n",
       "\n",
       "                                            RelQBody  \\\n",
       "0  I really would like to know where the best pla...   \n",
       "\n",
       "                                        RelQSubject  \n",
       "0  Where is the best place to catch fish in Qatar ?  "
      ]
     },
     "execution_count": 39,
     "metadata": {},
     "output_type": "execute_result"
    }
   ],
   "source": [
    "res_ques.head()"
   ]
  },
  {
   "cell_type": "code",
   "execution_count": null,
   "metadata": {
    "collapsed": true
   },
   "outputs": [],
   "source": []
  }
 ],
 "metadata": {
  "kernelspec": {
   "display_name": "Python 2",
   "language": "python",
   "name": "python2"
  },
  "language_info": {
   "codemirror_mode": {
    "name": "ipython",
    "version": 2
   },
   "file_extension": ".py",
   "mimetype": "text/x-python",
   "name": "python",
   "nbconvert_exporter": "python",
   "pygments_lexer": "ipython2",
   "version": "2.7.11"
  }
 },
 "nbformat": 4,
 "nbformat_minor": 0
}
